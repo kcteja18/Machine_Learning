{
 "cells": [
  {
   "cell_type": "markdown",
   "metadata": {
    "vscode": {
     "languageId": "plaintext"
    }
   },
   "source": [
    "### Q-1: How many multiplications and additions do you need to perform a matrix multiplication between a (n, k) and (k, m) matrix? Explain."
   ]
  },
  {
   "cell_type": "markdown",
   "metadata": {},
   "source": [
    "### Ans: \n",
    "\n",
    "To multiply a matrix $A$ of size $(n \\times k)$ by a matrix $B $ of size $(k \\times m)$, the resulting matrix $C$ will be of size $(n \\times m)$. Each element $(C_{ij})$ of the resulting matrix is computed as follows:\n",
    "\n",
    "$ C_{ij} = \\sum_{l=1}^k A_{il} \\cdot B_{lj}$\n",
    "\n",
    "This involves:\n",
    "\n",
    "- $k$ multiplications for each element $C_{ij}$ (one multiplication for each $A_{il} \\cdot B_{lj}$)\n",
    "- $(k-1)$ additions for each element $C_{ij}$ (to sum up the $k$ products)\n",
    "\n",
    "For each of the $n \\times m$ elements in $C$:\n",
    "- There are $k$ multiplications per element.\n",
    "- There are $(k-1)$ additions per element.\n",
    "\n",
    "Thus, \n",
    "\n",
    "the total number of multiplications is:\n",
    "**$n \\times m \\times k$**\n",
    "\n",
    "the total number of additions is:\n",
    "**$n \\times m \\times (k-1)$**"
   ]
  },
  {
   "cell_type": "markdown",
   "metadata": {},
   "source": [
    "### Q-2: Write Python code to multiply the above two matrices. Solve using list of lists and then use numpy. Compare the timing of both solutions. Which one is faster? Why?"
   ]
  },
  {
   "cell_type": "code",
   "execution_count": 4,
   "metadata": {},
   "outputs": [
    {
     "name": "stdout",
     "output_type": "stream",
     "text": [
      " Average time taken using list of lists: 0.099168 seconds\n",
      " Standard deviation of the execution time: 0.023726 seconds\n",
      "Average time taken using NumPy: 0.000102 seconds\n",
      " Standard deviation of the execution time: 0.000324 seconds\n"
     ]
    }
   ],
   "source": [
    "import random\n",
    "import time\n",
    "import numpy as np\n",
    "from statistics import mean, stdev\n",
    "\n",
    "# function to multiply matrices using list of lists\n",
    "def matrix_multiply_list(A, B):\n",
    "    n = len(A)\n",
    "    k = len(A[0])\n",
    "    m = len(B[0])\n",
    "    C = [[0] * m for _ in range(n)]\n",
    "    \n",
    "    for i in range(n):\n",
    "        for j in range(m):\n",
    "            C[i][j] = sum(A[i][l] * B[l][j] for l in range(k))\n",
    "    \n",
    "    return C\n",
    "\n",
    "# generate random matrices\n",
    "n, k, m = 100, 100, 100\n",
    "A = [[random.random() for _ in range(k)] for _ in range(n)]\n",
    "B = [[random.random() for _ in range(m)] for _ in range(k)]\n",
    "\n",
    "# measure time for list of lists implementation\n",
    "times_l_of_l = []\n",
    "for _ in range(10):\n",
    "    start_time = time.time()\n",
    "    C_list = matrix_multiply_list(A, B)\n",
    "    end_time = time.time()\n",
    "    time_ins = end_time - start_time\n",
    "    times_l_of_l.append(time_ins)  \n",
    "\n",
    "mean_time = mean(times_l_of_l)\n",
    "std_ll = stdev(times_l_of_l)\n",
    "\n",
    "print(f\" Average time taken using list of lists: {mean_time:.6f} seconds\")\n",
    "print(f\" Standard deviation of the execution time: {std_ll:.6f} seconds\")\n",
    "\n",
    "# generate random matrices for NumPy\n",
    "A_np = np.random.rand(n, k)\n",
    "B_np = np.random.rand(k, m)\n",
    "\n",
    "# measure time for NumPy implementation\n",
    "np_times_ = []\n",
    "for _ in range(10):\n",
    "    start_time = time.time()\n",
    "    C_np = np.dot(A_np, B_np)\n",
    "    end_time = time.time()\n",
    "    time_np = end_time - start_time\n",
    "    np_times_.append(time_np)  \n",
    "\n",
    "mean_np_time = mean(np_times_)\n",
    "std_np = stdev(np_times_)\n",
    "\n",
    "\n",
    "\n",
    "print(f\"Average time taken using NumPy: {mean_np_time:.6f} seconds\")\n",
    "print(f\" Standard deviation of the execution time: {std_np:.6f} seconds\")\n"
   ]
  },
  {
   "cell_type": "markdown",
   "metadata": {},
   "source": [
    "### Q-3: Finding the highest element in a list requires one pass of the array. Finding the second highest element requires 2 passes of the the array. Using this method, what is the time complexity of finding the median of the array? Can you suggest a better method? Can you implement both these methods in Python and compare against numpy.median routine in terms of time?"
   ]
  },
  {
   "cell_type": "code",
   "execution_count": null,
   "metadata": {},
   "outputs": [],
   "source": []
  },
  {
   "cell_type": "markdown",
   "metadata": {},
   "source": [
    "### Q-4: What is the gradient of the following function with respect to $x$ and $y$?\n",
    "\n",
    "### $x^2+y^3 \\cdot sin(x)$"
   ]
  },
  {
   "cell_type": "markdown",
   "metadata": {},
   "source": [
    "The gradient with respect to $x$ is:\n",
    "\n",
    "$\\frac{\\partial f}{\\partial x} = \\frac{\\partial}{\\partial x} (x^2) + \\frac{\\partial}{\\partial x} (y^3 \\sin(x))$\n",
    "\n",
    "$\\frac{\\partial f}{\\partial x} = 2x + y^3 \\cos(x)$\n",
    "\n",
    "The gradient with respect to $y$ is:\n",
    "\n",
    "$\\frac{\\partial f}{\\partial y} = \\frac{\\partial}{\\partial y} (x^2) + \\frac{\\partial}{\\partial x} (y^3 \\sin(x))$\n",
    "\n",
    "$\\frac{\\partial f}{\\partial x} = x^2 + 3y^2 \\sin(x)$"
   ]
  },
  {
   "cell_type": "markdown",
   "metadata": {},
   "source": [
    "### Q-5: Use JAX to confirm the gradient evaluated by your method matches the analytical solution corresponding to a few random values of x and y"
   ]
  },
  {
   "cell_type": "code",
   "execution_count": 13,
   "metadata": {},
   "outputs": [
    {
     "name": "stdout",
     "output_type": "stream",
     "text": [
      "Gradient with respect to x (JAX) for test case-1: 8.322418212890625\n",
      "Gradient with respect to x (JAX) for test case-2: 167.296142578125\n",
      "Gradient with respect to y (JAX) for test case-1: 11.097651481628418\n",
      "Gradient with respect to y (JAX) for test case-2: -115.96186828613281\n"
     ]
    }
   ],
   "source": [
    "import jax.numpy as jnp\n",
    "from jax import grad\n",
    "\n",
    "def f(x, y):\n",
    "    return x**2 * y + y**3 * jnp.sin(x)\n",
    "\n",
    "# Compute gradients using JAX\n",
    "grad_f_x = grad(f, argnums=0)\n",
    "grad_f_y = grad(f, argnums=1)\n",
    "\n",
    "# Test case 1\n",
    "x1 = 1.0\n",
    "y1 = 2.0\n",
    "\n",
    "# Test case 2\n",
    "x2 = 5.0\n",
    "y2 = 7.0\n",
    "\n",
    "grad_x1_jax = grad_f_x(x1, y1)\n",
    "grad_y1_jax = grad_f_y(x1, y1)\n",
    "\n",
    "grad_x2_jax = grad_f_x(x2, y2)\n",
    "grad_y2_jax = grad_f_y(x2, y2)\n",
    "\n",
    "print(f\"Gradient with respect to x (JAX) for test case-1: {grad_x1_jax}\")\n",
    "print(f\"Gradient with respect to x (JAX) for test case-2: {grad_x2_jax}\")\n",
    "\n",
    "print(f\"Gradient with respect to y (JAX) for test case-1: {grad_y1_jax}\")\n",
    "print(f\"Gradient with respect to y (JAX) for test case-2: {grad_y2_jax}\")\n",
    "\n"
   ]
  },
  {
   "cell_type": "markdown",
   "metadata": {},
   "source": [
    "### Q-6: Use sympy to confirm that you obtain the same gradient analytically."
   ]
  },
  {
   "cell_type": "code",
   "execution_count": 32,
   "metadata": {},
   "outputs": [
    {
     "name": "stdout",
     "output_type": "stream",
     "text": [
      "Gradient with respect to x (Sympy) for test case-1: 8.32241844694512\n",
      "Gradient with respect to x (Sympy) for test case-2: 167.296129613887\n",
      "Gradient with respect to y (Sympy) for test case-1: 11.0976518176948\n",
      "Gradient with respect to y (Sympy) for test case-2: -115.961868375481\n"
     ]
    }
   ],
   "source": [
    "import sympy as sp\n",
    "\n",
    "x, y = sp.symbols('x y')\n",
    "f = x**2 * y + y**3 * sp.sin(x)\n",
    "\n",
    "# Compute gradients\n",
    "grad_f_x = sp.diff(f, x)\n",
    "grad_f_y = sp.diff(f, y)\n",
    "\n",
    "# Test cases\n",
    "x1, y1 = 1.0, 2.0\n",
    "x2, y2 = 5.0, 7.0\n",
    "\n",
    "# Evaluate gradients at test cases\n",
    "grad_x1_sympy = grad_f_x.subs({x: x1, y: y1})\n",
    "grad_y1_sympy = grad_f_y.subs({x: x1, y: y1})\n",
    "\n",
    "grad_x2_sympy = grad_f_x.subs({x: x2, y: y2})\n",
    "grad_y2_sympy = grad_f_y.subs({x: x2, y: y2})\n",
    "\n",
    "print(f\"Gradient with respect to x (Sympy) for test case-1: {grad_x1_sympy}\")\n",
    "print(f\"Gradient with respect to x (Sympy) for test case-2: {grad_x2_sympy}\")\n",
    "\n",
    "print(f\"Gradient with respect to y (Sympy) for test case-1: {grad_y1_sympy}\")\n",
    "print(f\"Gradient with respect to y (Sympy) for test case-2: {grad_y2_sympy}\")\n"
   ]
  },
  {
   "cell_type": "code",
   "execution_count": null,
   "metadata": {},
   "outputs": [],
   "source": []
  },
  {
   "cell_type": "markdown",
   "metadata": {},
   "source": [
    "### Q-7: Create a Python nested dictionary to represent hierarchical information. We want to store record of students and their marks."
   ]
  },
  {
   "cell_type": "code",
   "execution_count": 38,
   "metadata": {},
   "outputs": [],
   "source": [
    "data = {\n",
    "    2022: {\n",
    "        \"Branch 1\": {\n",
    "            1: {\"Name\": \"Charan\", \"Marks\": {\"Maths\": 100, \"English\": 70}},\n",
    "            2: {\"Name\": \"Teja\", \"Marks\": {\"Maths\": 85, \"English\": 80}}\n",
    "        },\n",
    "        \"Branch 2\": {\n",
    "            1: {\"Name\": \"Pushkar\", \"Marks\": {\"Maths\": 90, \"English\": 75}},\n",
    "            2: {\"Name\": \"Kumar\", \"Marks\": {\"Maths\": 80, \"English\": 65}}\n",
    "        }\n",
    "    },\n",
    "    2023: {\n",
    "        \"Branch 1\": {\n",
    "            1: {\"Name\": \"Saharsh\", \"Marks\": {\"Maths\": 95, \"English\": 85}},\n",
    "            2: {\"Name\": \"Mithilesh\", \"Marks\": {\"Maths\": 78, \"English\": 70}}\n",
    "        },\n",
    "        \"Branch 2\": {\n",
    "            1: {\"Name\": \"Avinash\", \"Marks\": {\"Maths\": 88, \"English\": 80}},\n",
    "            2: {\"Name\": \"Hitesh\", \"Marks\": {\"Maths\": 82, \"English\": 72}}\n",
    "        }\n",
    "    },\n",
    "    2024: {\n",
    "        \"Branch 1\": {\n",
    "            1: {\"Name\": \"Tarun\", \"Marks\": {\"Maths\": 92, \"English\": 77}},\n",
    "            2: {\"Name\": \"Likith\", \"Marks\": {\"Maths\": 89, \"English\": 74}}\n",
    "        },\n",
    "        \"Branch 2\": {\n",
    "            1: {\"Name\": \"Sowjanya\", \"Marks\": {\"Maths\": 94, \"English\": 82}},\n",
    "            2: {\"Name\": \"Nandini\", \"Marks\": {\"Maths\": 81, \"English\": 68}}\n",
    "        }\n",
    "    },\n",
    "    2025: {\n",
    "        \"Branch 1\": {\n",
    "            1: {\"Name\": \"Hasmitha\", \"Marks\": {\"Maths\": 87, \"English\": 83}},\n",
    "            2: {\"Name\": \"Sri divya\", \"Marks\": {\"Maths\": 76, \"English\": 71}}\n",
    "        },\n",
    "        \"Branch 2\": {\n",
    "            1: {\"Name\": \"Sivaram\", \"Marks\": {\"Maths\": 90, \"English\": 78}},\n",
    "            2: {\"Name\": \"Nishitha\", \"Marks\": {\"Maths\": 84, \"English\": 70}}\n",
    "        }\n",
    "    }\n",
    "}\n",
    "\n"
   ]
  },
  {
   "cell_type": "markdown",
   "metadata": {},
   "source": [
    "### Q-8: Store the same information using Python classes. We have an overall database which is a list of year objects. Each year contains a list of branches. Each branch contains a list of students. Each student has some properties like name, roll number and has marks in some subjects."
   ]
  },
  {
   "cell_type": "code",
   "execution_count": 39,
   "metadata": {},
   "outputs": [
    {
     "name": "stdout",
     "output_type": "stream",
     "text": [
      "Roll Number: 1, Name: Sivaram, Marks: {'Maths': 100, 'English': 70}\n"
     ]
    }
   ],
   "source": [
    "class Student:\n",
    "    def __init__(self, roll_number, name, marks):\n",
    "        self.roll_number = roll_number\n",
    "        self.name = name\n",
    "        self.marks = marks\n",
    "\n",
    "class Branch:\n",
    "    def __init__(self, name):\n",
    "        self.name = name\n",
    "        self.students = []\n",
    "\n",
    "    def add_student(self, student):\n",
    "        self.students.append(student)\n",
    "\n",
    "class Year:\n",
    "    def __init__(self, year):\n",
    "        self.year = year\n",
    "        self.branches = []\n",
    "\n",
    "    def add_branch(self, branch):\n",
    "        self.branches.append(branch)\n",
    "\n",
    "class Database:\n",
    "    def __init__(self):\n",
    "        self.years = []\n",
    "\n",
    "    def add_year(self, year):\n",
    "        self.years.append(year)\n",
    "\n",
    "\n",
    "# Creating students\n",
    "student1 = Student(1, \"Sivaram\", {\"Maths\": 100, \"English\": 70})\n",
    "student2 = Student(2, \"Nishitha\", {\"Maths\": 85, \"English\": 80})\n",
    "\n",
    "# Creating branches and adding students\n",
    "branch1 = Branch(\"Branch 1\")\n",
    "branch1.add_student(student1)\n",
    "branch1.add_student(student2)\n",
    "\n",
    "# Creating a year and adding branches\n",
    "year2022 = Year(2022)\n",
    "year2022.add_branch(branch1)\n",
    "\n",
    "# Creating the database and adding years\n",
    "database = Database()\n",
    "database.add_year(year2022)\n",
    "\n",
    "first_year = database.years[0]\n",
    "first_branch = first_year.branches[0]\n",
    "first_student = first_branch.students[0]\n",
    "\n",
    "# Printing details of the first student\n",
    "print(f\"Roll Number: {first_student.roll_number}, Name: {first_student.name}, Marks: {first_student.marks}\")\n"
   ]
  },
  {
   "cell_type": "markdown",
   "metadata": {},
   "source": [
    "### Q-9: Using matplotlib plot the following functions on the domain: x = 0.5 to 100.0 in steps of 0.5.\n",
    "\n",
    "### $y=x$, $y = x^2$, $y = x^2/100$, $y = \\sin(x)$, $y = sin(x)/x$, $y = \\log(x)$, $y = e^x$"
   ]
  },
  {
   "cell_type": "code",
   "execution_count": 24,
   "metadata": {},
   "outputs": [
    {
     "data": {
      "image/png": "[encoded data removed]",
      "text/plain": [
       "<Figure size 1400x800 with 1 Axes>"
      ]
     },
     "metadata": {},
     "output_type": "display_data"
    }
   ],
   "source": [
    "import matplotlib.pyplot as plt\n",
    "\n",
    "x = np.arange(0.5, 100.0, 0.5)\n",
    "\n",
    "y1 = x\n",
    "y2 = x**2\n",
    "y3 = x**2 / 100\n",
    "y4 = np.sin(x)\n",
    "y5 = np.sin(x) / x\n",
    "y6 = np.log(x)\n",
    "y7 = np.exp(x)\n",
    "\n",
    "\n",
    "plt.figure(figsize=(14, 8))\n",
    "\n",
    "# Plotting each function\n",
    "plt.plot(x, y1, label=r'$y = x$')\n",
    "plt.plot(x, y2, label=r'$y = x^2$')\n",
    "plt.plot(x, y3, label=r'$y = \\frac{x^2}{100}$')\n",
    "plt.plot(x, y4, label=r'$y = \\sin(x)$')\n",
    "plt.plot(x, y5, label=r'$y = \\frac{\\sin(x)}{x}$')\n",
    "plt.plot(x, y6, label=r'$y = \\log(x)$')\n",
    "\n",
    "plt.xlabel('x')\n",
    "plt.ylabel('y')\n",
    "plt.title('Plot of Various Mathematical Functions')\n",
    "plt.legend()\n",
    "plt.grid(True)\n",
    "plt.show()\n"
   ]
  },
  {
   "cell_type": "code",
   "execution_count": 23,
   "metadata": {},
   "outputs": [
    {
     "data": {
      "image/png": "[encoded data removed]",
      "text/plain": [
       "<Figure size 640x480 with 1 Axes>"
      ]
     },
     "metadata": {},
     "output_type": "display_data"
    }
   ],
   "source": [
    "\n",
    "plt.plot(x, y7, label=r'$y = e^x$')\n",
    "\n",
    "plt.xlabel('x')\n",
    "plt.ylabel('y')\n",
    "plt.title('Plot of $y=e^x$ function')\n",
    "plt.legend()\n",
    "plt.grid(True)\n",
    "plt.show()\n"
   ]
  },
  {
   "cell_type": "markdown",
   "metadata": {},
   "source": [
    "### Q-10: Using numpy generate a matrix of size 20X5 containing random numbers drawn uniformly from the range of 1 to 2. Using Pandas create a dataframe out of this matrix. Name the columns of the dataframe as “a”, “b”, “c”, “d”, “e”. Find the column with the highest standard deviation. Find the row with the lowest mean."
   ]
  },
  {
   "cell_type": "code",
   "execution_count": 28,
   "metadata": {},
   "outputs": [
    {
     "name": "stdout",
     "output_type": "stream",
     "text": [
      "Column with the highest standard deviation: c\n",
      "Standard deviation value: 0.3435\n",
      "Row with the lowest mean: 15\n",
      "Mean value: 1.1714\n",
      "\n",
      "DataFrame:\n",
      "           a         b         c         d         e\n",
      "0   1.548814  1.715189  1.602763  1.544883  1.423655\n",
      "1   1.645894  1.437587  1.891773  1.963663  1.383442\n",
      "2   1.791725  1.528895  1.568045  1.925597  1.071036\n",
      "3   1.087129  1.020218  1.832620  1.778157  1.870012\n",
      "4   1.978618  1.799159  1.461479  1.780529  1.118274\n",
      "5   1.639921  1.143353  1.944669  1.521848  1.414662\n",
      "6   1.264556  1.774234  1.456150  1.568434  1.018790\n",
      "7   1.617635  1.612096  1.616934  1.943748  1.681820\n",
      "8   1.359508  1.437032  1.697631  1.060225  1.666767\n",
      "9   1.670638  1.210383  1.128926  1.315428  1.363711\n",
      "10  1.570197  1.438602  1.988374  1.102045  1.208877\n",
      "11  1.161310  1.653108  1.253292  1.466311  1.244426\n",
      "12  1.158970  1.110375  1.656330  1.138183  1.196582\n",
      "13  1.368725  1.820993  1.097101  1.837945  1.096098\n",
      "14  1.976459  1.468651  1.976761  1.604846  1.739264\n",
      "15  1.039188  1.282807  1.120197  1.296140  1.118728\n",
      "16  1.317983  1.414263  1.064147  1.692472  1.566601\n",
      "17  1.265389  1.523248  1.093941  1.575946  1.929296\n",
      "18  1.318569  1.667410  1.131798  1.716327  1.289406\n",
      "19  1.183191  1.586513  1.020108  1.828940  1.004695\n"
     ]
    }
   ],
   "source": [
    "import pandas as pd\n",
    "\n",
    "# Generate the matrix\n",
    "np.random.seed(0)\n",
    "matrix = np.random.uniform(1, 2, (20, 5))\n",
    "\n",
    "# Create a DataFrame\n",
    "columns = [\"a\", \"b\", \"c\", \"d\", \"e\"]\n",
    "df = pd.DataFrame(matrix, columns=columns)\n",
    "\n",
    "# Find the column with the highest standard deviation\n",
    "std_devs = df.std()\n",
    "max_std_col = std_devs.idxmax()\n",
    "max_std_value = std_devs.max()\n",
    "\n",
    "print(f\"Column with the highest standard deviation: {max_std_col}\")\n",
    "print(f\"Standard deviation value: {max_std_value:.4f}\")\n",
    "\n",
    "# Find the row with the lowest mean\n",
    "means = df.mean(axis=1)\n",
    "min_mean_row_index = means.idxmin()\n",
    "min_mean_value = means.min()\n",
    "\n",
    "print(f\"Row with the lowest mean: {min_mean_row_index}\")\n",
    "print(f\"Mean value: {min_mean_value:.4f}\")\n",
    "\n",
    "print(\"\\nDataFrame:\")\n",
    "print(df)\n"
   ]
  },
  {
   "cell_type": "markdown",
   "metadata": {},
   "source": [
    "### Q-11: Add a new column to the dataframe called “f” which is the sum of the columns “a”, “b”, “c”, “d”, “e”. Create another column called “g”. The value in the column “g” should be “LT8” if the value in the column “f” is less than 8 and “GT8” otherwise. Find the number of rows in the dataframe where the value in the column “g” is “LT8”. Find the standard deviation of the column “f” for the rows where the value in the column “g” is “LT8” and “GT8” respectively."
   ]
  },
  {
   "cell_type": "code",
   "execution_count": 31,
   "metadata": {},
   "outputs": [
    {
     "name": "stdout",
     "output_type": "stream",
     "text": [
      "Number of rows where the value in column g is LT8: 16\n",
      "Standard deviation of f where the value in column g is LT8: 0.555075090573796\n",
      "Standard deviation of f where the value in column g is GT8: 0.2654357309476843\n",
      "\n",
      "DataFrame:\n",
      "           a         b         c         d         e         f    g\n",
      "0   1.548814  1.715189  1.602763  1.544883  1.423655  7.835304  LT8\n",
      "1   1.645894  1.437587  1.891773  1.963663  1.383442  8.322359  GT8\n",
      "2   1.791725  1.528895  1.568045  1.925597  1.071036  7.885297  LT8\n",
      "3   1.087129  1.020218  1.832620  1.778157  1.870012  7.588136  LT8\n",
      "4   1.978618  1.799159  1.461479  1.780529  1.118274  8.138060  GT8\n",
      "5   1.639921  1.143353  1.944669  1.521848  1.414662  7.664453  LT8\n",
      "6   1.264556  1.774234  1.456150  1.568434  1.018790  7.082163  LT8\n",
      "7   1.617635  1.612096  1.616934  1.943748  1.681820  8.472234  GT8\n",
      "8   1.359508  1.437032  1.697631  1.060225  1.666767  7.221163  LT8\n",
      "9   1.670638  1.210383  1.128926  1.315428  1.363711  6.689086  LT8\n",
      "10  1.570197  1.438602  1.988374  1.102045  1.208877  7.308094  LT8\n",
      "11  1.161310  1.653108  1.253292  1.466311  1.244426  6.778446  LT8\n",
      "12  1.158970  1.110375  1.656330  1.138183  1.196582  6.260440  LT8\n",
      "13  1.368725  1.820993  1.097101  1.837945  1.096098  7.220863  LT8\n",
      "14  1.976459  1.468651  1.976761  1.604846  1.739264  8.765981  GT8\n",
      "15  1.039188  1.282807  1.120197  1.296140  1.118728  5.857059  LT8\n",
      "16  1.317983  1.414263  1.064147  1.692472  1.566601  7.055467  LT8\n",
      "17  1.265389  1.523248  1.093941  1.575946  1.929296  7.387821  LT8\n",
      "18  1.318569  1.667410  1.131798  1.716327  1.289406  7.123510  LT8\n",
      "19  1.183191  1.586513  1.020108  1.828940  1.004695  6.623447  LT8\n"
     ]
    }
   ],
   "source": [
    "# Add a new column \"f\" which is the sum of columns\n",
    "df['f'] = df[['a', 'b', 'c', 'd', 'e']].sum(axis=1)\n",
    "\n",
    "# Create a new column \"g\" based on the values in column \"f\"\n",
    "df['g'] = np.where(df['f'] < 8, 'LT8', 'GT8')\n",
    "\n",
    "# number of rows where the value in column \"g\" is \"LT8\"\n",
    "lt8_count = df[df['g'] == 'LT8'].shape[0]\n",
    "\n",
    "# the standard deviation of the column \"f\" for rows where \"g\" is \"LT8\" and \"GT8\" respectively\n",
    "std_f_lt8 = df[df['g'] == 'LT8']['f'].std()\n",
    "std_f_gt8 = df[df['g'] == 'GT8']['f'].std()\n",
    "\n",
    "print(f\"Number of rows where the value in column g is LT8: {lt8_count}\")\n",
    "print(f\"Standard deviation of f where the value in column g is LT8: {std_f_lt8}\")\n",
    "print(f\"Standard deviation of f where the value in column g is GT8: {std_f_gt8}\")\n",
    "print(\"\\nDataFrame:\")\n",
    "print(df)\n"
   ]
  },
  {
   "cell_type": "markdown",
   "metadata": {},
   "source": [
    "### Q-12: Write a small piece of code to explain broadcasting in numpy."
   ]
  },
  {
   "cell_type": "code",
   "execution_count": 35,
   "metadata": {},
   "outputs": [
    {
     "name": "stdout",
     "output_type": "stream",
     "text": [
      "Array A:\n",
      "[[1 2 3]\n",
      " [4 5 6]\n",
      " [7 8 9]]\n",
      "\n",
      "Array B:\n",
      "[10 20 30]\n",
      "\n",
      "Result of A + B:\n",
      "[[11 22 33]\n",
      " [14 25 36]\n",
      " [17 28 39]]\n"
     ]
    }
   ],
   "source": [
    "# 2D array (3x3)\n",
    "A = np.array([[1, 2, 3],\n",
    "              [4, 5, 6],\n",
    "              [7, 8, 9]])\n",
    "\n",
    "# 1D array (length 3)\n",
    "B = np.array([10, 20, 30])\n",
    "\n",
    "# Add the 1D array B to each row of the 2D array A\n",
    "C = A + B\n",
    "\n",
    "print(\"Array A:\")\n",
    "print(A)\n",
    "print(\"\\nArray B:\")\n",
    "print(B)\n",
    "print(\"\\nResult of A + B:\")\n",
    "print(C)\n"
   ]
  },
  {
   "cell_type": "markdown",
   "metadata": {},
   "source": [
    "Explanation:\n",
    "A is a 3x3 matrix.\n",
    "B is a 1x3 array.\n",
    "When you add A and B, NumPy automatically \"stretches\" B to match the shape of A. In this case, B is broadcasted across each row of A."
   ]
  },
  {
   "cell_type": "markdown",
   "metadata": {},
   "source": [
    "### Q-13: Write a function to compute the argmin of a numpy array. The function should take a numpy array as input and return the index of the minimum element. You can use the np.argmin function to verify your solution."
   ]
  },
  {
   "cell_type": "code",
   "execution_count": 27,
   "metadata": {},
   "outputs": [
    {
     "name": "stdout",
     "output_type": "stream",
     "text": [
      "Custom argmin index: 3\n",
      "numpy argmin index: 3\n"
     ]
    }
   ],
   "source": [
    "# func to compute the argmin of a numpy array\n",
    "def argmin_(arr):\n",
    "    n = len(arr)\n",
    "    min_ind = 0\n",
    "    min_val = arr[0] \n",
    "    for i in range(1,n):\n",
    "        if arr[i]<min_val:\n",
    "            min_val = arr[i]\n",
    "            min_ind = i\n",
    "    return min_ind\n",
    "\n",
    "arr = np.array([3.5, 1.2, 7.8, -0.5, 4.2])\n",
    "min_ind = argmin_(arr)\n",
    "\n",
    "print(f\"Custom argmin index: {min_ind}\")\n",
    "\n",
    "# using argmin func for verification\n",
    "min_index = np.argmin(arr)\n",
    "print(f\"numpy argmin index: {min_index}\")\n",
    "        "
   ]
  },
  {
   "cell_type": "code",
   "execution_count": null,
   "metadata": {},
   "outputs": [],
   "source": []
  }
 ],
 "metadata": {
  "kernelspec": {
   "display_name": "Python 3",
   "language": "python",
   "name": "python3"
  },
  "language_info": {
   "codemirror_mode": {
    "name": "ipython",
    "version": 3
   },
   "file_extension": ".py",
   "mimetype": "text/x-python",
   "name": "python",
   "nbconvert_exporter": "python",
   "pygments_lexer": "ipython3",
   "version": "3.11.5"
  }
 },
 "nbformat": 4,
 "nbformat_minor": 2
}
